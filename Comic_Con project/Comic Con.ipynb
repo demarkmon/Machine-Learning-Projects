{
 "cells": [
  {
   "cell_type": "code",
   "execution_count": 9,
   "metadata": {},
   "outputs": [],
   "source": []
  },
  {
   "cell_type": "code",
   "execution_count": 1,
   "metadata": {
    "scrolled": true
   },
   "outputs": [
    {
     "name": "stdout",
     "output_type": "stream",
     "text": [
      "Requirement already satisfied: opencv-python in c:\\users\\user\\anaconda3\\lib\\site-packages (4.5.1.48)\n",
      "Requirement already satisfied: numpy>=1.17.3 in c:\\users\\user\\anaconda3\\lib\\site-packages (from opencv-python) (1.19.2)\n",
      "Note: you may need to restart the kernel to use updated packages.\n"
     ]
    }
   ],
   "source": [
    "pip install opencv-python"
   ]
  },
  {
   "cell_type": "code",
   "execution_count": 2,
   "metadata": {},
   "outputs": [
    {
     "name": "stdout",
     "output_type": "stream",
     "text": [
      "Requirement already satisfied: easygui in c:\\users\\user\\anaconda3\\lib\\site-packages (0.98.2)Note: you may need to restart the kernel to use updated packages.\n",
      "\n"
     ]
    }
   ],
   "source": [
    "pip install easygui"
   ]
  },
  {
   "cell_type": "code",
   "execution_count": 2,
   "metadata": {},
   "outputs": [],
   "source": [
    "import cv2  # for image processing\n",
    "import easygui  # to open the filebox\n",
    "#import numpy as np\n",
    "#import imageio  # to read image stored at particular path\n",
    "\n",
    "import sys\n",
    "import matplotlib.pyplot as plt\n",
    "import os\n",
    "import tkinter as tk\n",
    "from tkinter import *\n",
    "from tkinter import filedialog\n",
    "from tkinter import *\n",
    "from PIL import ImageTk, Image\n",
    "\n",
    "# formatting the application box.\n",
    "#########\n",
    "top = Tk()\n",
    "top.geometry('800x600')\n",
    "top.title('Comic-Con 2k21 !')\n",
    "top.configure(background='yellow')\n",
    "label = Label(top, background='#CDCDCD', font=('calibri', 25, 'bold'))\n",
    "#########\n",
    "\n",
    "# getting image from system\n",
    "#########\n",
    "def upload():\n",
    "    imgsrc = easygui.fileopenbox()\n",
    "    comicon(imgsrc)\n",
    "#########\n",
    "\n",
    "# function to comify the image\n",
    "#########\n",
    "\n",
    "def comicon(imgsrc):\n",
    "    # read the image\n",
    "    actual_pic = cv2.imread(imgsrc)\n",
    "    actual_pic = cv2.cvtColor(actual_pic, cv2.COLOR_BGR2RGB)\n",
    "    # to numerify the image as a color image\n",
    "\n",
    "    # checking if image is valid or not\n",
    "    if actual_pic is None:\n",
    "        print(\"Image is not valid\")\n",
    "        sys.exit()\n",
    "        \n",
    "    # resizing the image multiple times in the code as a extra precaution\n",
    "    # so that the image size and dimensions are unaltered throughout the code.\n",
    "   \n",
    "    Pic1 = cv2.resize(actual_pic, (900, 1200))\n",
    "\n",
    "    #grayscaling the image\n",
    "    GrayPic = cv2.cvtColor(actual_pic, cv2.COLOR_BGR2GRAY)\n",
    "    Pic2 = cv2.resize(GrayPic, (900, 1200))\n",
    "    \n",
    "\n",
    "    # applying median blur to smoothen an image\n",
    "    BlurPic = cv2.medianBlur(GrayPic, 5)\n",
    "    Pic3 = cv2.resize(BlurPic, (900, 1200))\n",
    "\n",
    "    # retrieving the edges for cartoon effect\n",
    "    # by using thresholding technique\n",
    "    Edge = cv2.adaptiveThreshold(BlurPic, 255, cv2.ADAPTIVE_THRESH_MEAN_C, cv2.THRESH_BINARY, 9, 9)\n",
    "\n",
    "    Pic4 = cv2.resize(Edge, (900, 1200))\n",
    "\n",
    "    # applying bilateral filter to remove noise\n",
    "    # and keep edge sharp as required\n",
    "    colorPic = cv2.bilateralFilter(actual_pic, 9, 300, 300)\n",
    "    Pic5 = cv2.resize(colorPic, (900, 1200))\n",
    "\n",
    "    # masking edged image with our \"BEAUTIFY\" image\n",
    "    comicPic = cv2.bitwise_and(colorPic, colorPic, mask=Edge)\n",
    "\n",
    "    Pic6 = cv2.resize(comicPic, (900, 1200))\n",
    "\n",
    "    save1=Button(top,text=\"Save comic con\",command=lambda: save(Pic6, imgsrc),padx=50,pady=20)\n",
    "    save1.configure(background='#364156', foreground='white',font=('calibri',10,'bold'))\n",
    "    save1.pack(side=TOP,pady=50)\n",
    "    \n",
    "    plt.show()\n",
    "    \n",
    "    \n",
    "def save(Pic6, imgsrc):\n",
    "    #saving an image using imwrite()\n",
    "    newName = \"Comic_Pic\"\n",
    "    path1 = os.path.dirname(imgsrc)\n",
    "    extension=os.path.splitext(imgsrc)[1]\n",
    "    path = os.path.join(path1, newName+extension)\n",
    "    cv2.imwrite(path, cv2.cvtColor(Pic6, cv2.COLOR_RGB2BGR))\n",
    "\n",
    "upload=Button(top,text=\"Comic your photo\",command=upload,padx=70,pady=30)\n",
    "upload.configure(background='#364156', foreground='white',font=('calibri', 10, 'bold'))\n",
    "upload.pack(side=TOP,pady=50)\n",
    "\n",
    "top.mainloop()\n"
   ]
  },
  {
   "cell_type": "code",
   "execution_count": null,
   "metadata": {},
   "outputs": [],
   "source": []
  },
  {
   "cell_type": "code",
   "execution_count": null,
   "metadata": {},
   "outputs": [],
   "source": []
  },
  {
   "cell_type": "code",
   "execution_count": null,
   "metadata": {},
   "outputs": [],
   "source": []
  },
  {
   "cell_type": "code",
   "execution_count": null,
   "metadata": {},
   "outputs": [],
   "source": []
  },
  {
   "cell_type": "code",
   "execution_count": null,
   "metadata": {},
   "outputs": [],
   "source": []
  }
 ],
 "metadata": {
  "kernelspec": {
   "display_name": "Python 3",
   "language": "python",
   "name": "python3"
  },
  "language_info": {
   "codemirror_mode": {
    "name": "ipython",
    "version": 3
   },
   "file_extension": ".py",
   "mimetype": "text/x-python",
   "name": "python",
   "nbconvert_exporter": "python",
   "pygments_lexer": "ipython3",
   "version": "3.8.5"
  }
 },
 "nbformat": 4,
 "nbformat_minor": 2
}
